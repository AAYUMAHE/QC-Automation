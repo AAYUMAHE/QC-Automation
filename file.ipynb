{
 "cells": [
  {
   "cell_type": "code",
   "execution_count": 20,
   "id": "26c6193f",
   "metadata": {},
   "outputs": [],
   "source": [
    "import pandas as pd\n",
    "import re\n"
   ]
  },
  {
   "cell_type": "code",
   "execution_count": 9,
   "id": "46b4005c",
   "metadata": {},
   "outputs": [],
   "source": [
    "df = pd.read_csv('output.txt')"
   ]
  },
  {
   "cell_type": "code",
   "execution_count": 11,
   "id": "b7a36d99",
   "metadata": {},
   "outputs": [
    {
     "data": {
      "text/plain": [
       "Index(['unique_number', 'name', 'reg_no'], dtype='object')"
      ]
     },
     "execution_count": 11,
     "metadata": {},
     "output_type": "execute_result"
    }
   ],
   "source": [
    "df.columns"
   ]
  },
  {
   "cell_type": "code",
   "execution_count": 16,
   "id": "3ea08a96",
   "metadata": {},
   "outputs": [],
   "source": [
    "df['unique_number'] = df['unique_number'].str.replace(r'\\.jpg$', '', case=False, regex=True)"
   ]
  },
  {
   "cell_type": "code",
   "execution_count": 17,
   "id": "a8b597e5",
   "metadata": {},
   "outputs": [
    {
     "data": {
      "text/html": [
       "<div>\n",
       "<style scoped>\n",
       "    .dataframe tbody tr th:only-of-type {\n",
       "        vertical-align: middle;\n",
       "    }\n",
       "\n",
       "    .dataframe tbody tr th {\n",
       "        vertical-align: top;\n",
       "    }\n",
       "\n",
       "    .dataframe thead th {\n",
       "        text-align: right;\n",
       "    }\n",
       "</style>\n",
       "<table border=\"1\" class=\"dataframe\">\n",
       "  <thead>\n",
       "    <tr style=\"text-align: right;\">\n",
       "      <th></th>\n",
       "      <th>unique_number</th>\n",
       "      <th>name</th>\n",
       "      <th>reg_no</th>\n",
       "    </tr>\n",
       "  </thead>\n",
       "  <tbody>\n",
       "    <tr>\n",
       "      <th>0</th>\n",
       "      <td>ICMAI11010027</td>\n",
       "      <td>Mehak Sahu Cma R</td>\n",
       "      <td>1232047736</td>\n",
       "    </tr>\n",
       "    <tr>\n",
       "      <th>1</th>\n",
       "      <td>ICMAI11178567</td>\n",
       "      <td>Himaniben Ashwinkumar Patel Cma</td>\n",
       "      <td>1241060964</td>\n",
       "    </tr>\n",
       "    <tr>\n",
       "      <th>2</th>\n",
       "      <td>ICMAI11245933</td>\n",
       "      <td>Harsh Sunil Makhujja Cma R</td>\n",
       "      <td>1232046446</td>\n",
       "    </tr>\n",
       "    <tr>\n",
       "      <th>3</th>\n",
       "      <td>ICMAI11705988</td>\n",
       "      <td>Not Found</td>\n",
       "      <td>3241070193</td>\n",
       "    </tr>\n",
       "    <tr>\n",
       "      <th>4</th>\n",
       "      <td>ICMAI11776670</td>\n",
       "      <td>Adithyan M K Cma R</td>\n",
       "      <td>2232054596</td>\n",
       "    </tr>\n",
       "    <tr>\n",
       "      <th>...</th>\n",
       "      <td>...</td>\n",
       "      <td>...</td>\n",
       "      <td>...</td>\n",
       "    </tr>\n",
       "    <tr>\n",
       "      <th>285</th>\n",
       "      <td>ICMAI98544137</td>\n",
       "      <td>P Rahul Cma R</td>\n",
       "      <td>2232040743</td>\n",
       "    </tr>\n",
       "    <tr>\n",
       "      <th>286</th>\n",
       "      <td>ICMAI98862767</td>\n",
       "      <td>Shivani Kumari Cma R</td>\n",
       "      <td>4231029086</td>\n",
       "    </tr>\n",
       "    <tr>\n",
       "      <th>287</th>\n",
       "      <td>ICMAI99147408</td>\n",
       "      <td>Yash Kushwaha Cma R</td>\n",
       "      <td>4241057319</td>\n",
       "    </tr>\n",
       "    <tr>\n",
       "      <th>288</th>\n",
       "      <td>ICMAI99408635</td>\n",
       "      <td>Hafsa Zaheer Wangde Cma R</td>\n",
       "      <td>1241060233</td>\n",
       "    </tr>\n",
       "    <tr>\n",
       "      <th>289</th>\n",
       "      <td>ICMAI99951151</td>\n",
       "      <td>Nistha Jain Cma R</td>\n",
       "      <td>2231036048</td>\n",
       "    </tr>\n",
       "  </tbody>\n",
       "</table>\n",
       "<p>290 rows × 3 columns</p>\n",
       "</div>"
      ],
      "text/plain": [
       "     unique_number                             name      reg_no\n",
       "0    ICMAI11010027                 Mehak Sahu Cma R  1232047736\n",
       "1    ICMAI11178567  Himaniben Ashwinkumar Patel Cma  1241060964\n",
       "2    ICMAI11245933       Harsh Sunil Makhujja Cma R  1232046446\n",
       "3    ICMAI11705988                        Not Found  3241070193\n",
       "4    ICMAI11776670               Adithyan M K Cma R  2232054596\n",
       "..             ...                              ...         ...\n",
       "285  ICMAI98544137                    P Rahul Cma R  2232040743\n",
       "286  ICMAI98862767             Shivani Kumari Cma R  4231029086\n",
       "287  ICMAI99147408              Yash Kushwaha Cma R  4241057319\n",
       "288  ICMAI99408635        Hafsa Zaheer Wangde Cma R  1241060233\n",
       "289  ICMAI99951151                Nistha Jain Cma R  2231036048\n",
       "\n",
       "[290 rows x 3 columns]"
      ]
     },
     "execution_count": 17,
     "metadata": {},
     "output_type": "execute_result"
    }
   ],
   "source": [
    "df"
   ]
  },
  {
   "cell_type": "code",
   "execution_count": 36,
   "id": "4afde365",
   "metadata": {},
   "outputs": [],
   "source": [
    "#to clean the name , that comes with the Cma , Cma R , Cma reg , things. \n",
    "\n",
    "df['name'] = df['name'].str.replace(r'\\bCMA\\s*R.*$', '', flags=re.IGNORECASE, regex=True)\n",
    "df['name'] = df['name'].str.replace(r'\\bCMA\\s*.*$', '', flags=re.IGNORECASE, regex=True)\n",
    "df['name'] = df['name'].str.replace(r'\\bCMA\\s*REG.*$', '', flags=re.IGNORECASE, regex=True)\n",
    "df['name'] = df['name'].str.strip()\n"
   ]
  },
  {
   "cell_type": "code",
   "execution_count": null,
   "id": "1ad66c00",
   "metadata": {},
   "outputs": [],
   "source": [
    "#to save the updated csv file . Preprocessed , with removal of noice . \n",
    "df.to_csv(\"output.txt\", index=False)"
   ]
  },
  {
   "cell_type": "code",
   "execution_count": 25,
   "id": "70e965b5",
   "metadata": {},
   "outputs": [],
   "source": [
    "df2 = pd.read_csv('output.txt')"
   ]
  },
  {
   "cell_type": "code",
   "execution_count": 33,
   "id": "17545504",
   "metadata": {},
   "outputs": [
    {
     "data": {
      "text/plain": [
       "3      Not Found\n",
       "147    Not Found\n",
       "176    Not Found\n",
       "202    Not Found\n",
       "209    Not Found\n",
       "Name: name, dtype: object"
      ]
     },
     "execution_count": 33,
     "metadata": {},
     "output_type": "execute_result"
    }
   ],
   "source": [
    "df2[df2.name == 'Not Found'].name"
   ]
  },
  {
   "cell_type": "code",
   "execution_count": 35,
   "id": "865bb381",
   "metadata": {},
   "outputs": [
    {
     "name": "stdout",
     "output_type": "stream",
     "text": [
      "Saved 0 rows to output2.txt\n",
      "Removed them from output.txt, remaining: 285 rows\n"
     ]
    }
   ],
   "source": [
    "#in last to make it , only clean data , we got from the script  . \n",
    "\n",
    "import pandas as pd\n",
    "\n",
    "# Load the data\n",
    "df = pd.read_csv(\"output.txt\")\n",
    "\n",
    "# Detect the name column (like 'Name', 'Full Name', etc.)\n",
    "name_col = [col for col in df.columns if 'name' in col.lower()]\n",
    "if not name_col:\n",
    "    raise Exception(\" Couldn't find a column with 'name' in header.\")\n",
    "name_col = name_col[0]\n",
    "\n",
    "# 1. Extract rows where name == 'Not Found'\n",
    "df_not_found = df[df[name_col] == 'Not Found']\n",
    "df_not_found.to_csv(\"output2.txt\", index=False)\n",
    "print(f\"Saved {len(df_not_found)} rows to output2.txt\")\n",
    "\n",
    "# 2. Remove those rows from original data\n",
    "df_cleaned = df[df[name_col] != 'Not Found']\n",
    "df_cleaned.to_csv(\"output.txt\", index=False)\n",
    "print(f\"Removed them from output.txt, remaining: {len(df_cleaned)} rows\")\n"
   ]
  },
  {
   "cell_type": "code",
   "execution_count": null,
   "id": "2ea93272",
   "metadata": {},
   "outputs": [
    {
     "name": "stdout",
     "output_type": "stream",
     "text": [
      "File1 shape: (286, 3)\n",
      "File2 shape: (172, 9)\n",
      "Done. Mismatched rows written to error.txt.\n"
     ]
    }
   ],
   "source": [
    "\n",
    "#to check the output and all . \n",
    "\n",
    "import pandas as pd\n",
    "\n",
    "# Load the CSV files\n",
    "file1 = pd.read_csv(\"output.txt\", header=None)   #output.txt\n",
    "file2 = pd.read_csv(\"icmai_certificate_data.csv\", header=None)\n",
    "\n",
    "# Print the shapes for debug\n",
    "print(\"File1 shape:\", file1.shape)\n",
    "print(\"File2 shape:\", file2.shape)\n",
    "\n",
    "# Check if the files have the expected number of columns\n",
    "if file1.shape[1] < 3 or file2.shape[1] < 9:\n",
    "    raise ValueError(\"One of the files does not have the required number of columns.\")\n",
    "\n",
    "# Strip whitespaces from relevant columns in both files\n",
    "file1[0] = file1[0].astype(str).str.strip()  # unique_number\n",
    "file1[1] = file1[1].astype(str).str.strip()  # name\n",
    "file1[2] = file1[2].astype(str).str.strip()  # reg_no\n",
    "\n",
    "file2[0] = file2[0].astype(str).str.strip()  # name\n",
    "file2[4] = file2[4].astype(str).str.strip()  # unique_number\n",
    "file2[5] = file2[5].astype(str).str.strip()  # reg_no\n",
    "\n",
    "# List to store rows with mismatches\n",
    "error_rows = []\n",
    "\n",
    "# Iterate through each row in file2\n",
    "for index, row in file2.iterrows():\n",
    "    # Match file2[unique_number] (column 5) with file1[unique_number] (column 1)\n",
    "    match_rows = file1[file1[0] == row[4]]\n",
    "    \n",
    "    if not match_rows.empty:\n",
    "        # For each match found, check name and reg_no\n",
    "        for _, match_row in match_rows.iterrows():\n",
    "            condition1 = match_row[1].strip() == row[0].strip()  # file1[name] == file2[name]\n",
    "            condition2 = match_row[2].strip() == row[5].strip()  # file1[reg_no] == file2[reg_no]\n",
    "            \n",
    "            # If either condition fails, add the row to error_rows\n",
    "            if not (condition1 and condition2):\n",
    "                error_rows.append(row.tolist())\n",
    "    else:\n",
    "        # If no match found for unique_number, add the row to error_rows\n",
    "        error_rows.append(row.tolist())\n",
    "\n",
    "# Write mismatched rows to error.txt\n",
    "with open(\"error.txt\", \"w\") as f:\n",
    "    for err in error_rows:\n",
    "        f.write(\",\".join(map(str, err)) + \"\\n\")\n",
    "\n",
    "print(\"Done. Mismatched rows written to error.txt.\")\n"
   ]
  },
  {
   "cell_type": "code",
   "execution_count": null,
   "id": "6d7a594e",
   "metadata": {},
   "outputs": [],
   "source": []
  }
 ],
 "metadata": {
  "kernelspec": {
   "display_name": "venv",
   "language": "python",
   "name": "python3"
  },
  "language_info": {
   "codemirror_mode": {
    "name": "ipython",
    "version": 3
   },
   "file_extension": ".py",
   "mimetype": "text/x-python",
   "name": "python",
   "nbconvert_exporter": "python",
   "pygments_lexer": "ipython3",
   "version": "3.10.11"
  }
 },
 "nbformat": 4,
 "nbformat_minor": 5
}
